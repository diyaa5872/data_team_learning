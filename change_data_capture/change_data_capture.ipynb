{
 "cells": [
  {
   "cell_type": "code",
   "execution_count": 0,
   "metadata": {
    "application/vnd.databricks.v1+cell": {
     "cellMetadata": {
      "byteLimit": 2048000,
      "implicitDf": true,
      "rowLimit": 10000
     },
     "inputWidgets": {},
     "nuid": "5457f9fd-61c6-4687-924d-ffdb8aa98859",
     "showTitle": false,
     "tableResultSettingsMap": {},
     "title": ""
    }
   },
   "outputs": [],
   "source": [
    "%sql\n",
    "DROP TABLE IF EXISTS `databricks-uc-catalog`.`first_schema`.`source_data_ctc`;\n",
    "DROP VIEW IF EXISTS `databricks-uc-catalog`.`first_schema`.`source_data_ctc_view`;\n",
    "DROP VIEW IF EXISTS `databricks-uc-catalog`.`first_schema`.`additional_data_view`;"
   ]
  },
  {
   "cell_type": "markdown",
   "metadata": {
    "application/vnd.databricks.v1+cell": {
     "cellMetadata": {},
     "inputWidgets": {},
     "nuid": "c544ad28-64bc-4524-941d-cead0dee24a0",
     "showTitle": false,
     "tableResultSettingsMap": {},
     "title": ""
    }
   },
   "source": [
    "Created a table in unity catalog and stored it in abfss"
   ]
  },
  {
   "cell_type": "code",
   "execution_count": 0,
   "metadata": {
    "application/vnd.databricks.v1+cell": {
     "cellMetadata": {
      "byteLimit": 2048000,
      "rowLimit": 10000
     },
     "inputWidgets": {},
     "nuid": "0667b883-d771-4909-a95d-e5161e67ffff",
     "showTitle": false,
     "tableResultSettingsMap": {},
     "title": ""
    }
   },
   "outputs": [],
   "source": [
    "CREATE OR REPLACE TABLE `databricks-uc-catalog`.first_schema.source_data_ctc(\n",
    "    id INT,\n",
    "    address STRING,\n",
    "    current BOOLEAN,\n",
    "    effective_date string,\n",
    "    end_date string\n",
    "    ) USING DELTA\n",
    "    LOCATION 'abfss://metastore@databricksugdl.dfs.core.windows.net/data_capture'\n",
    "    TBLPROPERTIES (delta.enableChangeDataFeed = true);\n",
    "\n"
   ]
  },
  {
   "cell_type": "markdown",
   "metadata": {
    "application/vnd.databricks.v1+cell": {
     "cellMetadata": {},
     "inputWidgets": {},
     "nuid": "802fbb49-51c4-445b-a3dd-830454e8150c",
     "showTitle": false,
     "tableResultSettingsMap": {},
     "title": ""
    }
   },
   "source": [
    "Inserted some code into the table\n"
   ]
  },
  {
   "cell_type": "code",
   "execution_count": 0,
   "metadata": {
    "application/vnd.databricks.v1+cell": {
     "cellMetadata": {
      "byteLimit": 2048000,
      "rowLimit": 10000
     },
     "inputWidgets": {},
     "nuid": "3753639b-453f-495d-8489-d0a12570dcd8",
     "showTitle": false,
     "tableResultSettingsMap": {},
     "title": ""
    }
   },
   "outputs": [],
   "source": [
    "INSERT INTO `databricks-uc-catalog`.first_schema.source_data_ctc (id, address, current, effective_date, end_date)\n",
    "VALUES\n",
    "    (1, '123 Main St', true, '2025-08-01', '2025-08-31'),\n",
    "    (2, '456 Oak Ave', false, '2025-07-15', '2025-08-14'),\n",
    "    (3, '789 Pine Rd', true, '2025-08-10', NULL),\n",
    "    (4, '321 Maple Ln', false, '2025-06-01', '2025-07-01');"
   ]
  },
  {
   "cell_type": "markdown",
   "metadata": {
    "application/vnd.databricks.v1+cell": {
     "cellMetadata": {},
     "inputWidgets": {},
     "nuid": "8fac7bc5-005e-43da-9512-ff430b99c91a",
     "showTitle": false,
     "tableResultSettingsMap": {},
     "title": ""
    }
   },
   "source": [
    "Created a view and added some data one is new data and another one is updated data"
   ]
  },
  {
   "cell_type": "code",
   "execution_count": 0,
   "metadata": {
    "application/vnd.databricks.v1+cell": {
     "cellMetadata": {
      "byteLimit": 2048000,
      "rowLimit": 10000
     },
     "inputWidgets": {},
     "nuid": "212fab20-ea36-483b-896b-86efd91d1f91",
     "showTitle": false,
     "tableResultSettingsMap": {},
     "title": ""
    }
   },
   "outputs": [],
   "source": [
    "CREATE OR REPLACE TEMPORARY VIEW source_data_ctc_view AS\n",
    "SELECT 1 id, \"An updated address\" as address, true as current, '2025-09-12' as effective_date, NULL as end_date\n",
    "UNION ALL\n",
    "SELECT 5, 'New added data', true, '2025-09-12', NULL as end_date"
   ]
  },
  {
   "cell_type": "markdown",
   "metadata": {
    "application/vnd.databricks.v1+cell": {
     "cellMetadata": {},
     "inputWidgets": {},
     "nuid": "7f236758-f897-4498-8b42-131d6848ffe6",
     "showTitle": false,
     "tableResultSettingsMap": {},
     "title": ""
    }
   },
   "source": [
    "Merged the new to old data"
   ]
  },
  {
   "cell_type": "code",
   "execution_count": 0,
   "metadata": {
    "application/vnd.databricks.v1+cell": {
     "cellMetadata": {
      "byteLimit": 2048000,
      "rowLimit": 10000
     },
     "inputWidgets": {},
     "nuid": "a6e1663e-6c05-4400-9f71-96edba4df849",
     "showTitle": false,
     "tableResultSettingsMap": {},
     "title": ""
    }
   },
   "outputs": [],
   "source": [
    "MERGE INTO `databricks-uc-catalog`.first_schema.source_data_ctc AS original\n",
    "USING source_data_ctc_view AS source\n",
    "ON source.id = original.id\n",
    "WHEN MATCHED THEN\n",
    "  UPDATE SET\n",
    "    original.address = source.address,\n",
    "    original.current = source.current,\n",
    "    original.effective_date = source.effective_date,\n",
    "    original.end_date = source.end_date\n",
    "WHEN NOT MATCHED THEN\n",
    "  INSERT (id, address, current, effective_date, end_date)\n",
    "  VALUES (source.id, source.address, source.current, source.effective_date, source.end_date);"
   ]
  },
  {
   "cell_type": "code",
   "execution_count": 0,
   "metadata": {
    "application/vnd.databricks.v1+cell": {
     "cellMetadata": {
      "byteLimit": 2048000,
      "rowLimit": 10000
     },
     "inputWidgets": {},
     "nuid": "bba1b9c9-87ca-4b47-b891-1db88d45072c",
     "showTitle": false,
     "tableResultSettingsMap": {},
     "title": ""
    }
   },
   "outputs": [],
   "source": [
    "SELECT * FROM `databricks-uc-catalog`.first_schema.source_data_ctc"
   ]
  },
  {
   "cell_type": "code",
   "execution_count": 0,
   "metadata": {
    "application/vnd.databricks.v1+cell": {
     "cellMetadata": {
      "byteLimit": 2048000,
      "rowLimit": 10000
     },
     "inputWidgets": {},
     "nuid": "18b0aa23-53fb-4dac-a64a-1129af86de67",
     "showTitle": false,
     "tableResultSettingsMap": {},
     "title": ""
    }
   },
   "outputs": [],
   "source": [
    "%python \n",
    "df=spark.read.parquet(\"abfss://metastore@databricksugdl.dfs.core.windows.net/data_capture/_change_data/cdc-00000-0f3bc8e4-a75c-4355-ab77-0a558ad9c7b5.c000.snappy.parquet\")\n",
    "display(df)"
   ]
  },
  {
   "cell_type": "code",
   "execution_count": 0,
   "metadata": {
    "application/vnd.databricks.v1+cell": {
     "cellMetadata": {
      "byteLimit": 2048000,
      "rowLimit": 10000
     },
     "inputWidgets": {},
     "nuid": "c8c5a964-98bb-4f30-bbd3-f8ff194db0dd",
     "showTitle": false,
     "tableResultSettingsMap": {},
     "title": ""
    }
   },
   "outputs": [],
   "source": [
    "describe history `databricks-uc-catalog`.`first_schema`.`source_data_ctc`"
   ]
  },
  {
   "cell_type": "markdown",
   "metadata": {
    "application/vnd.databricks.v1+cell": {
     "cellMetadata": {},
     "inputWidgets": {},
     "nuid": "4d91db2b-322a-4b44-93a7-0fc0eda9cedd",
     "showTitle": false,
     "tableResultSettingsMap": {},
     "title": ""
    }
   },
   "source": [
    "Checking on the version from 1 and 2 inclusive"
   ]
  },
  {
   "cell_type": "code",
   "execution_count": 0,
   "metadata": {
    "application/vnd.databricks.v1+cell": {
     "cellMetadata": {
      "byteLimit": 2048000,
      "rowLimit": 10000
     },
     "inputWidgets": {},
     "nuid": "1d312fae-b871-479d-955f-43afcb48ec26",
     "showTitle": false,
     "tableResultSettingsMap": {},
     "title": ""
    }
   },
   "outputs": [],
   "source": [
    "SELECT * FROM table_changes('`databricks-uc-catalog`.first_schema.source_data_ctc',1,2)"
   ]
  },
  {
   "cell_type": "code",
   "execution_count": 0,
   "metadata": {
    "application/vnd.databricks.v1+cell": {
     "cellMetadata": {
      "byteLimit": 2048000,
      "rowLimit": 10000
     },
     "inputWidgets": {},
     "nuid": "85d05dba-8a16-4994-aa9a-a7657aae34b5",
     "showTitle": false,
     "tableResultSettingsMap": {},
     "title": ""
    }
   },
   "outputs": [],
   "source": [
    "SELECT * FROM table_changes('`databricks-uc-catalog`.first_schema.source_data_ctc',3)"
   ]
  },
  {
   "cell_type": "code",
   "execution_count": 0,
   "metadata": {
    "application/vnd.databricks.v1+cell": {
     "cellMetadata": {
      "byteLimit": 2048000,
      "rowLimit": 10000
     },
     "inputWidgets": {},
     "nuid": "b4d4b5c8-63cf-4658-a96f-639176701989",
     "showTitle": false,
     "tableResultSettingsMap": {},
     "title": ""
    }
   },
   "outputs": [],
   "source": [
    "SELECT * \n",
    "FROM table_changes('`databricks-uc-catalog`.first_schema.source_data_ctc',1,2)  \n",
    "WHERE _change_type='update_preimage'"
   ]
  },
  {
   "cell_type": "code",
   "execution_count": 0,
   "metadata": {
    "application/vnd.databricks.v1+cell": {
     "cellMetadata": {},
     "inputWidgets": {},
     "nuid": "afa5b685-6b98-4688-b336-e0d213f247ff",
     "showTitle": false,
     "tableResultSettingsMap": {},
     "title": ""
    }
   },
   "outputs": [],
   "source": [
    "select * from `databricks-uc-catalog`.first_schema.source_data_ctc"
   ]
  },
  {
   "cell_type": "code",
   "execution_count": 0,
   "metadata": {
    "application/vnd.databricks.v1+cell": {
     "cellMetadata": {},
     "inputWidgets": {},
     "nuid": "1d1db58b-563b-4e57-a642-287f5ba9102d",
     "showTitle": false,
     "tableResultSettingsMap": {},
     "title": ""
    }
   },
   "outputs": [],
   "source": [
    "INSERT INTO `databricks-uc-catalog`.first_schema.source_data_ctc (id, address, current, effective_date, end_date)\n",
    "VALUES\n",
    "    (6, '1234 Main Street', true, '2025-08-01', '2025-08-31')"
   ]
  }
 ],
 "metadata": {
  "application/vnd.databricks.v1+notebook": {
   "computePreferences": null,
   "dashboards": [],
   "environmentMetadata": {
    "base_environment": "",
    "environment_version": "2"
   },
   "inputWidgetPreferences": null,
   "language": "sql",
   "notebookMetadata": {
    "mostRecentlyExecutedCommandWithImplicitDF": {
     "commandId": -1,
     "dataframes": [
      "_sqldf"
     ]
    },
    "pythonIndentUnit": 4
   },
   "notebookName": "change_data_capture",
   "widgets": {}
  },
  "language_info": {
   "name": "sql"
  }
 },
 "nbformat": 4,
 "nbformat_minor": 0
}
