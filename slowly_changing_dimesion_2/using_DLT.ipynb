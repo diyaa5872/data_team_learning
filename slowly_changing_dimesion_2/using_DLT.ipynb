{
 "cells": [
  {
   "cell_type": "code",
   "execution_count": 0,
   "metadata": {
    "application/vnd.databricks.v1+cell": {
     "cellMetadata": {},
     "inputWidgets": {},
     "nuid": "e328be54-39d9-4ee5-88a9-7320f2a25931",
     "showTitle": false,
     "tableResultSettingsMap": {},
     "title": ""
    }
   },
   "outputs": [],
   "source": [
    "import dlt\n",
    "from pyspark.sql.functions import *\n",
    "from pyspark.sql.types import StructType, StructField, IntegerType, StringType, TimestampType\n",
    "from pyspark.sql.types import BooleanType"
   ]
  },
  {
   "cell_type": "code",
   "execution_count": 0,
   "metadata": {
    "application/vnd.databricks.v1+cell": {
     "cellMetadata": {},
     "inputWidgets": {},
     "nuid": "104d6b2d-c2b4-4ad4-b39b-2ddb074d857f",
     "showTitle": false,
     "tableResultSettingsMap": {},
     "title": ""
    }
   },
   "outputs": [],
   "source": [
    "@dlt.table\n",
    "def incoming_employees():\n",
    "    data = [\n",
    "        (1, 'Alice', 'HR'),              # No change\n",
    "        (2, 'Bob', 'Marketing'),         # Changed\n",
    "        (3, 'Charlie', 'Finance'),       # Additional data\n",
    "    ]\n",
    "    columns = ['emp_id', 'name', 'department']\n",
    "    return spark.createDataFrame(data, columns)\n",
    "#here is the incoming/updated data "
   ]
  },
  {
   "cell_type": "code",
   "execution_count": 0,
   "metadata": {
    "application/vnd.databricks.v1+cell": {
     "cellMetadata": {},
     "inputWidgets": {},
     "nuid": "1b70b7ff-8514-4cbe-a627-9e07f8e00123",
     "showTitle": false,
     "tableResultSettingsMap": {},
     "title": ""
    }
   },
   "outputs": [],
   "source": [
    "\n",
    "@dlt.table\n",
    "def employee_dim():\n",
    "    schema = StructType([\n",
    "        StructField(\"emp_id\", IntegerType(), False),\n",
    "        StructField(\"name\", StringType(), True),\n",
    "        StructField(\"department\", StringType(), True),\n",
    "        StructField(\"start_date\", StringType(), True),\n",
    "        StructField(\"end_date\", StringType(), True),\n",
    "        StructField(\"is_current\", BooleanType(), True)\n",
    "    ])\n",
    "\n",
    "    data = [\n",
    "        (1, 'Alice', 'HR', '2023-01-01', None, True),\n",
    "        (2, 'Bob', 'Finance', '2023-01-01', None, True),\n",
    "        (3, 'Charlie', 'IT', '2023-01-01', None, True)\n",
    "    ]\n",
    "\n",
    "    return spark.createDataFrame(data, schema=schema)\n"
   ]
  },
  {
   "cell_type": "code",
   "execution_count": 0,
   "metadata": {
    "application/vnd.databricks.v1+cell": {
     "cellMetadata": {},
     "inputWidgets": {},
     "nuid": "3e939d51-7d39-4e67-8474-299c0690c834",
     "showTitle": false,
     "tableResultSettingsMap": {},
     "title": ""
    }
   },
   "outputs": [],
   "source": [
    "@dlt.table\n",
    "def changed_employees():\n",
    "    incoming = dlt.read(\"incoming_employees\")\n",
    "    current = dlt.read(\"employee_dim\").filter(col(\"is_current\") == True)\n",
    "\n",
    "    joined = incoming.alias(\"incoming\").join(\n",
    "        current.alias(\"current\"),\n",
    "        col(\"incoming.emp_id\") == col(\"current.emp_id\"),\n",
    "        \"left\"\n",
    "    )\n",
    "\n",
    "    changed = joined.filter(\n",
    "        col(\"current.emp_id\").isNull() |\n",
    "        (col(\"incoming.name\") != col(\"current.name\")) |\n",
    "        (col(\"incoming.department\") != col(\"current.department\"))\n",
    "    ).select(\"incoming.*\")\n",
    "\n",
    "    return changed\n"
   ]
  },
  {
   "cell_type": "code",
   "execution_count": 0,
   "metadata": {
    "application/vnd.databricks.v1+cell": {
     "cellMetadata": {},
     "inputWidgets": {},
     "nuid": "494e149d-87b2-43da-9fe8-a4a2e912c2e6",
     "showTitle": false,
     "tableResultSettingsMap": {},
     "title": ""
    }
   },
   "outputs": [],
   "source": [
    "@dlt.table\n",
    "def expired_records():\n",
    "    changed = dlt.read(\"changed_employees\")\n",
    "    current = dlt.read(\"employee_dim\").filter(\"is_current = true\")\n",
    "\n",
    "    expired = changed.join(current, \"emp_id\").select(\n",
    "        current[\"emp_id\"],\n",
    "        current[\"name\"],\n",
    "        current[\"department\"],\n",
    "        current[\"start_date\"],\n",
    "        current_date().alias(\"end_date\"),\n",
    "        lit(False).alias(\"is_current\")\n",
    "    )\n",
    "    return expired\n"
   ]
  },
  {
   "cell_type": "code",
   "execution_count": 0,
   "metadata": {
    "application/vnd.databricks.v1+cell": {
     "cellMetadata": {},
     "inputWidgets": {},
     "nuid": "12d6ed6f-ed3d-49c7-b26c-10d98881a971",
     "showTitle": false,
     "tableResultSettingsMap": {},
     "title": ""
    }
   },
   "outputs": [],
   "source": [
    "@dlt.table\n",
    "def new_records():\n",
    "    changed = dlt.read(\"changed_employees\")\n",
    "    return changed.withColumn(\"start_date\", current_date()) \\\n",
    "                  .withColumn(\"end_date\", lit(None).cast(\"date\")) \\\n",
    "                  .withColumn(\"is_current\", lit(True))"
   ]
  },
  {
   "cell_type": "code",
   "execution_count": 0,
   "metadata": {
    "application/vnd.databricks.v1+cell": {
     "cellMetadata": {},
     "inputWidgets": {},
     "nuid": "ee9602a0-00b8-4ab1-b1d4-43acb1108ceb",
     "showTitle": false,
     "tableResultSettingsMap": {},
     "title": ""
    }
   },
   "outputs": [],
   "source": [
    "@dlt.table\n",
    "def employee_dim_scd2():\n",
    "    current = dlt.read(\"employee_dim\")\n",
    "    expired = dlt.read(\"expired_records\")\n",
    "    new = dlt.read(\"new_records\")\n",
    "\n",
    "    unchanged = current.filter(\"is_current = true\").join(\n",
    "        dlt.read(\"changed_employees\").select(\"emp_id\"),\n",
    "        \"emp_id\", \"left_anti\"\n",
    "    )\n",
    "\n",
    "    return expired.unionByName(new).unionByName(unchanged)\n"
   ]
  },
  {
   "cell_type": "markdown",
   "metadata": {
    "application/vnd.databricks.v1+cell": {
     "cellMetadata": {},
     "inputWidgets": {},
     "nuid": "f7286e63-fadf-42c5-a556-685888dc5d34",
     "showTitle": false,
     "tableResultSettingsMap": {},
     "title": ""
    }
   },
   "source": []
  }
 ],
 "metadata": {
  "application/vnd.databricks.v1+notebook": {
   "computePreferences": null,
   "dashboards": [],
   "environmentMetadata": {
    "base_environment": "",
    "environment_version": "2"
   },
   "inputWidgetPreferences": null,
   "language": "python",
   "notebookMetadata": {
    "pythonIndentUnit": 4
   },
   "notebookName": "using_DLT",
   "widgets": {}
  },
  "language_info": {
   "name": "python"
  }
 },
 "nbformat": 4,
 "nbformat_minor": 0
}
